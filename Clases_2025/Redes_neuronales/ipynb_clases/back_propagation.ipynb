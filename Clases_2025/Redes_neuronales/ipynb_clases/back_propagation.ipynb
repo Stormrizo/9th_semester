{
 "cells": [
  {
   "cell_type": "code",
   "execution_count": null,
   "id": "a3df8310",
   "metadata": {},
   "outputs": [],
   "source": [
    "#### Libraries\n",
    "\n",
    "# Standard library\n",
    "\n",
    "import random \n",
    "\n",
    "# Third-party libraries\n",
    "import numpy as np\n",
    "\n",
    "class Network(object):\n",
    "\n",
    "    def _init_(self, sizes):\n",
    "        \"\"\"The list \"sizes\" contains the number of neurons in the respective layers of the network. For example, if the list is [2, 3, 1], then the network has an input layer with 2 neurons, a hidden layer with 3 neurons, and an output layer with 1 neuron.\n",
    "        if the list was\"\"\"\n",
    "    self.num_layers = len(sizes)\n",
    "    self.sizes = sizes\n",
    "    self.biases = [np.random.randn(y, 1) for y in sizes[1:]]\n",
    "    self.weights = [np.random.randn(y, x) \n",
    "                    for x, y in zip(sizes[:-1], sizes[1:])]\n",
    "    \n",
    "    def feedforward(self, a):\n",
    "        \"\"\"Return the output of the network if ''a'' is input.\"\"\"\n",
    "        for b, w in zip(self.biases, self.weights):\n",
    "            a = sigmoid(np.dot(w, a) + b)\n",
    "        return a\n",
    "    \n",
    "    def SGD(self, training_data, epochs, mini_batch_size, eta,\n",
    "            test_data=None):\n",
    "        \"\"\"Train the neural network using mini-batch stochastic gradient descent.\"\"\"\n",
    "        if test_data: n_test = len(test_data)\n",
    "        n = len(training_data)\n",
    "        for j in range(epochs):\n",
    "            random.shuffle(training_data)\n",
    "            mini_batches = [\n",
    "                training_data[k:k+mini_batch_size]\n",
    "                for k in range(0, n, mini_batch_size)]\n",
    "            for mini_batch in mini_batches:\n",
    "                self.update_mini_batch(mini_batch, eta)\n",
    "            if test_data:\n",
    "                print(\"Epoch {0}: {1} / {2}\".format(\n",
    "                    j, self.evaluate(test_data), n_test))"
   ]
  }
 ],
 "metadata": {
  "language_info": {
   "name": "python"
  }
 },
 "nbformat": 4,
 "nbformat_minor": 5
}
